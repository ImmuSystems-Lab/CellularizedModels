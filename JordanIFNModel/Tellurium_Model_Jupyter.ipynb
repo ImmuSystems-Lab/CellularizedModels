{
 "cells": [
  {
   "cell_type": "code",
   "execution_count": 11,
   "metadata": {},
   "outputs": [
    {
     "name": "stdout",
     "output_type": "stream",
     "text": [
      "Overwriting Tellurium_JordanIFNModel.py\n"
     ]
    }
   ],
   "source": [
    "%%writefile Tellurium_JordanIFNModel.py\n",
    "import tellurium as te\n",
    "import matplotlib.pyplot as plt\n",
    "\n",
    "model_string = '''\n",
    "    //Equations\n",
    "    E2: -> IFN   ; P*(k11*RIGI*V+(k12*V^n)/(k13+V^n)+k14*IRF7P)-k21*IFN ;\n",
    "    E3: -> IFNe  ; k21*IFN-t2*IFNe                                      ;\n",
    "    E4: -> STATP ; P*(k31*IFNe)/(k32+k33*IFNe)-0.3*STATP                ;\n",
    "    E5: -> IRF7  ; P*(k41*STATP+k42*IRF7P)-0.3*IRF7                     ;\n",
    "    E6: -> IRF7P ; P*k51*IRF7-t5*IRF7P                                  ;\n",
    "    E7: -> P     ; -k61*P*V                                             ; \n",
    "    E8: -> V     ; (k71*V*P)/(1.0+k72*IFN*7E-5)-k73*V                   ;\n",
    "\n",
    "    //Parameters\n",
    "    k11 = 0.0    ; //Validation data dependent ; zero for most cases\n",
    "    k12 = 9.746  ; \n",
    "    k13 = 12.511 ; \n",
    "    k14 = 13.562 ;\n",
    "    k21 = 10.385 ;\n",
    "    t2  = 3.481  ;\n",
    "    k31 = 45.922 ;\n",
    "    k32 = 5.464  ;\n",
    "    k33 = 0.068  ;\n",
    "    t3  = 0.3    ;\n",
    "    k41 = 0.115  ;\n",
    "    k42 = 1.053  ;\n",
    "    t4  = 0.3    ;\n",
    "    k51 = 0.202  ;\n",
    "    t5  = 0.3    ;\n",
    "    k61 = 0.635  ;\n",
    "    k71 = 1.537  ;\n",
    "    k72 = 47.883 ;\n",
    "    k73 = 0.197  ;\n",
    "    n   = 3.0    ;\n",
    "\n",
    "    //Initial Conditions\n",
    "    P    = 1.0     ;   \n",
    "    RIGI = 1.0     ;\n",
    "    IRF7 = 0.72205 ;\n",
    "    V    = 6.9e-8  ;\n",
    "'''\n",
    "\n",
    "m = te.loada(model_string)\n",
    "s = m.simulate(0,36,3600)\n",
    "\n",
    "plt.figure(figsize=(8,7))\n",
    "plt.subplot(3,3,1)\n",
    "plt.plot(s['time'],s['[IFN]'])\n",
    "plt.title('IFN')\n",
    "\n",
    "plt.subplot(3,3,2)\n",
    "plt.plot(s['time'],s['[IFNe]'])\n",
    "plt.title('IFNe')\n",
    "\n",
    "plt.subplot(3,3,3)\n",
    "plt.plot(s['time'],s['[STATP]'])\n",
    "plt.title('STATP')\n",
    "\n",
    "plt.subplot(3,3,4)\n",
    "plt.plot(s['time'],s['[IRF7]'])\n",
    "plt.title('IRF7')\n",
    "\n",
    "plt.subplot(3,3,5)\n",
    "plt.plot(s['time'],s['[IRF7P]'])\n",
    "plt.title('IRF7P')\n",
    "\n",
    "plt.subplot(3,3,6)\n",
    "plt.plot(s['time'],s['[V]'])\n",
    "plt.title('V')\n",
    "\n",
    "plt.subplot(3,3,7)\n",
    "plt.plot(s['time'],s['[P]'])\n",
    "plt.ylim([0,1.1])\n",
    "plt.title('P')\n",
    "\n",
    "plt.tight_layout()\n",
    "plt.show()"
   ]
  }
 ],
 "metadata": {
  "kernelspec": {
   "display_name": "Python 3",
   "language": "python",
   "name": "python3"
  },
  "language_info": {
   "codemirror_mode": {
    "name": "ipython",
    "version": 3
   },
   "file_extension": ".py",
   "mimetype": "text/x-python",
   "name": "python",
   "nbconvert_exporter": "python",
   "pygments_lexer": "ipython3",
   "version": "3.6.8"
  }
 },
 "nbformat": 4,
 "nbformat_minor": 2
}
